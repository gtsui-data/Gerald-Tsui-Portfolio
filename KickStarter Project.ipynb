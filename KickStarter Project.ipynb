{
 "cells": [
  {
   "cell_type": "markdown",
   "id": "712564cd",
   "metadata": {},
   "source": [
    "# Import Tools"
   ]
  },
  {
   "cell_type": "code",
   "execution_count": 111,
   "id": "9ee3db43",
   "metadata": {},
   "outputs": [],
   "source": [
    "import pandas as pd\n",
    "import numpy as np\n",
    "import matplotlib.pyplot as plt\n"
   ]
  },
  {
   "cell_type": "markdown",
   "id": "91af9724",
   "metadata": {},
   "source": [
    "# Import File"
   ]
  },
  {
   "cell_type": "code",
   "execution_count": 3,
   "id": "59c13d4c",
   "metadata": {},
   "outputs": [
    {
     "data": {
      "text/html": [
       "<div>\n",
       "<style scoped>\n",
       "    .dataframe tbody tr th:only-of-type {\n",
       "        vertical-align: middle;\n",
       "    }\n",
       "\n",
       "    .dataframe tbody tr th {\n",
       "        vertical-align: top;\n",
       "    }\n",
       "\n",
       "    .dataframe thead th {\n",
       "        text-align: right;\n",
       "    }\n",
       "</style>\n",
       "<table border=\"1\" class=\"dataframe\">\n",
       "  <thead>\n",
       "    <tr style=\"text-align: right;\">\n",
       "      <th></th>\n",
       "      <th>ID</th>\n",
       "      <th>Name</th>\n",
       "      <th>Category</th>\n",
       "      <th>Subcategory</th>\n",
       "      <th>Country</th>\n",
       "      <th>Launched</th>\n",
       "      <th>Deadline</th>\n",
       "      <th>Goal</th>\n",
       "      <th>Pledged</th>\n",
       "      <th>Backers</th>\n",
       "      <th>State</th>\n",
       "    </tr>\n",
       "  </thead>\n",
       "  <tbody>\n",
       "    <tr>\n",
       "      <th>0</th>\n",
       "      <td>1860890148</td>\n",
       "      <td>Grace Jones Does Not Give A F$#% T-Shirt (limi...</td>\n",
       "      <td>Fashion</td>\n",
       "      <td>Fashion</td>\n",
       "      <td>United States</td>\n",
       "      <td>2009-04-21 21:02:48</td>\n",
       "      <td>2009-05-31</td>\n",
       "      <td>1000</td>\n",
       "      <td>625</td>\n",
       "      <td>30</td>\n",
       "      <td>Failed</td>\n",
       "    </tr>\n",
       "    <tr>\n",
       "      <th>1</th>\n",
       "      <td>709707365</td>\n",
       "      <td>CRYSTAL ANTLERS UNTITLED MOVIE</td>\n",
       "      <td>Film &amp; Video</td>\n",
       "      <td>Shorts</td>\n",
       "      <td>United States</td>\n",
       "      <td>2009-04-23 00:07:53</td>\n",
       "      <td>2009-07-20</td>\n",
       "      <td>80000</td>\n",
       "      <td>22</td>\n",
       "      <td>3</td>\n",
       "      <td>Failed</td>\n",
       "    </tr>\n",
       "    <tr>\n",
       "      <th>2</th>\n",
       "      <td>1703704063</td>\n",
       "      <td>drawing for dollars</td>\n",
       "      <td>Art</td>\n",
       "      <td>Illustration</td>\n",
       "      <td>United States</td>\n",
       "      <td>2009-04-24 21:52:03</td>\n",
       "      <td>2009-05-03</td>\n",
       "      <td>20</td>\n",
       "      <td>35</td>\n",
       "      <td>3</td>\n",
       "      <td>Successful</td>\n",
       "    </tr>\n",
       "    <tr>\n",
       "      <th>3</th>\n",
       "      <td>727286</td>\n",
       "      <td>Offline Wikipedia iPhone app</td>\n",
       "      <td>Technology</td>\n",
       "      <td>Software</td>\n",
       "      <td>United States</td>\n",
       "      <td>2009-04-25 17:36:21</td>\n",
       "      <td>2009-07-14</td>\n",
       "      <td>99</td>\n",
       "      <td>145</td>\n",
       "      <td>25</td>\n",
       "      <td>Successful</td>\n",
       "    </tr>\n",
       "    <tr>\n",
       "      <th>4</th>\n",
       "      <td>1622952265</td>\n",
       "      <td>Pantshirts</td>\n",
       "      <td>Fashion</td>\n",
       "      <td>Fashion</td>\n",
       "      <td>United States</td>\n",
       "      <td>2009-04-27 14:10:39</td>\n",
       "      <td>2009-05-26</td>\n",
       "      <td>1900</td>\n",
       "      <td>387</td>\n",
       "      <td>10</td>\n",
       "      <td>Failed</td>\n",
       "    </tr>\n",
       "  </tbody>\n",
       "</table>\n",
       "</div>"
      ],
      "text/plain": [
       "           ID                                               Name  \\\n",
       "0  1860890148  Grace Jones Does Not Give A F$#% T-Shirt (limi...   \n",
       "1   709707365                     CRYSTAL ANTLERS UNTITLED MOVIE   \n",
       "2  1703704063                                drawing for dollars   \n",
       "3      727286                       Offline Wikipedia iPhone app   \n",
       "4  1622952265                                         Pantshirts   \n",
       "\n",
       "       Category   Subcategory        Country             Launched    Deadline  \\\n",
       "0       Fashion       Fashion  United States  2009-04-21 21:02:48  2009-05-31   \n",
       "1  Film & Video        Shorts  United States  2009-04-23 00:07:53  2009-07-20   \n",
       "2           Art  Illustration  United States  2009-04-24 21:52:03  2009-05-03   \n",
       "3    Technology      Software  United States  2009-04-25 17:36:21  2009-07-14   \n",
       "4       Fashion       Fashion  United States  2009-04-27 14:10:39  2009-05-26   \n",
       "\n",
       "    Goal  Pledged  Backers       State  \n",
       "0   1000      625       30      Failed  \n",
       "1  80000       22        3      Failed  \n",
       "2     20       35        3  Successful  \n",
       "3     99      145       25  Successful  \n",
       "4   1900      387       10      Failed  "
      ]
     },
     "execution_count": 3,
     "metadata": {},
     "output_type": "execute_result"
    }
   ],
   "source": [
    "df = pd.read_csv(\"./desktop/kickstarter_projects.csv\")\n",
    "df = df.reset_index(drop=True)\n",
    "df.head()"
   ]
  },
  {
   "cell_type": "markdown",
   "id": "c6ada806",
   "metadata": {},
   "source": [
    "# Data Cleaning"
   ]
  },
  {
   "cell_type": "markdown",
   "id": "58e7c716",
   "metadata": {},
   "source": [
    "# Checked to See Formats Within Columns"
   ]
  },
  {
   "cell_type": "code",
   "execution_count": 5,
   "id": "1988593b",
   "metadata": {},
   "outputs": [
    {
     "data": {
      "text/plain": [
       "ID              int64\n",
       "Name           object\n",
       "Category       object\n",
       "Subcategory    object\n",
       "Country        object\n",
       "Launched       object\n",
       "Deadline       object\n",
       "Goal            int64\n",
       "Pledged         int64\n",
       "Backers         int64\n",
       "State          object\n",
       "dtype: object"
      ]
     },
     "execution_count": 5,
     "metadata": {},
     "output_type": "execute_result"
    }
   ],
   "source": [
    "df.dtypes\n"
   ]
  },
  {
   "cell_type": "markdown",
   "id": "6dc1db79",
   "metadata": {},
   "source": [
    "# Changed Launched and Deadline to Datetime64 format "
   ]
  },
  {
   "cell_type": "code",
   "execution_count": 6,
   "id": "e333796c",
   "metadata": {},
   "outputs": [
    {
     "data": {
      "text/plain": [
       "ID                      int64\n",
       "Name                   object\n",
       "Category               object\n",
       "Subcategory            object\n",
       "Country                object\n",
       "Launched       datetime64[ns]\n",
       "Deadline       datetime64[ns]\n",
       "Goal                    int64\n",
       "Pledged                 int64\n",
       "Backers                 int64\n",
       "State                  object\n",
       "dtype: object"
      ]
     },
     "execution_count": 6,
     "metadata": {},
     "output_type": "execute_result"
    }
   ],
   "source": [
    "df['Launched'] = pd.to_datetime(df['Launched'])\n",
    "df['Deadline'] = pd.to_datetime(df['Deadline'])\n",
    "df.dtypes"
   ]
  },
  {
   "cell_type": "markdown",
   "id": "f6a5015d",
   "metadata": {},
   "source": [
    "# Get Counts to see if the items in columns are misspelled\n"
   ]
  },
  {
   "cell_type": "code",
   "execution_count": 9,
   "id": "5989f896",
   "metadata": {},
   "outputs": [
    {
     "data": {
      "text/plain": [
       "Film & Video    62694\n",
       "Music           49529\n",
       "Publishing      39378\n",
       "Games           35225\n",
       "Technology      32562\n",
       "Design          30065\n",
       "Art             28151\n",
       "Food            24599\n",
       "Fashion         22812\n",
       "Theater         10911\n",
       "Comics          10819\n",
       "Photography     10778\n",
       "Crafts           8809\n",
       "Journalism       4754\n",
       "Dance            3767\n",
       "Name: Category, dtype: int64"
      ]
     },
     "execution_count": 9,
     "metadata": {},
     "output_type": "execute_result"
    }
   ],
   "source": [
    "df['Category'].value_counts()"
   ]
  },
  {
   "cell_type": "code",
   "execution_count": 10,
   "id": "6d54da25",
   "metadata": {},
   "outputs": [
    {
     "data": {
      "text/plain": [
       "Product Design     22310\n",
       "Documentary        16138\n",
       "Tabletop Games     14178\n",
       "Music              13339\n",
       "Shorts             12357\n",
       "                   ...  \n",
       "Residencies           69\n",
       "Letterpress           49\n",
       "Chiptune              35\n",
       "Literary Spaces       27\n",
       "Taxidermy             13\n",
       "Name: Subcategory, Length: 159, dtype: int64"
      ]
     },
     "execution_count": 10,
     "metadata": {},
     "output_type": "execute_result"
    }
   ],
   "source": [
    "df['Subcategory'].value_counts()"
   ]
  },
  {
   "cell_type": "code",
   "execution_count": 11,
   "id": "74621d8d",
   "metadata": {},
   "outputs": [
    {
     "data": {
      "text/plain": [
       "United States     292618\n",
       "United Kingdom     33671\n",
       "Canada             14756\n",
       "Australia           7839\n",
       "Germany             4171\n",
       "France              2939\n",
       "Italy               2878\n",
       "Netherlands         2868\n",
       "Spain               2276\n",
       "Sweden              1757\n",
       "Mexico              1752\n",
       "New Zealand         1447\n",
       "Denmark             1113\n",
       "Ireland              811\n",
       "Switzerland          760\n",
       "Norway               708\n",
       "Hong Kong            618\n",
       "Belgium              617\n",
       "Austria              597\n",
       "Singapore            555\n",
       "Luxembourg            62\n",
       "Japan                 40\n",
       "Name: Country, dtype: int64"
      ]
     },
     "execution_count": 11,
     "metadata": {},
     "output_type": "execute_result"
    }
   ],
   "source": [
    "df['Country'].value_counts()"
   ]
  },
  {
   "cell_type": "code",
   "execution_count": 12,
   "id": "9f85d4f3",
   "metadata": {},
   "outputs": [
    {
     "data": {
      "text/plain": [
       "Failed        197611\n",
       "Successful    133851\n",
       "Canceled       38751\n",
       "Live            2798\n",
       "Suspended       1842\n",
       "Name: State, dtype: int64"
      ]
     },
     "execution_count": 12,
     "metadata": {},
     "output_type": "execute_result"
    }
   ],
   "source": [
    "df['State'].value_counts()"
   ]
  },
  {
   "cell_type": "markdown",
   "id": "c49c048b",
   "metadata": {},
   "source": [
    "# Check for NAN/NULL Values in the DataFrame "
   ]
  },
  {
   "cell_type": "code",
   "execution_count": 13,
   "id": "6f4c7fae",
   "metadata": {},
   "outputs": [
    {
     "data": {
      "text/html": [
       "<div>\n",
       "<style scoped>\n",
       "    .dataframe tbody tr th:only-of-type {\n",
       "        vertical-align: middle;\n",
       "    }\n",
       "\n",
       "    .dataframe tbody tr th {\n",
       "        vertical-align: top;\n",
       "    }\n",
       "\n",
       "    .dataframe thead th {\n",
       "        text-align: right;\n",
       "    }\n",
       "</style>\n",
       "<table border=\"1\" class=\"dataframe\">\n",
       "  <thead>\n",
       "    <tr style=\"text-align: right;\">\n",
       "      <th></th>\n",
       "      <th>ID</th>\n",
       "      <th>Name</th>\n",
       "      <th>Category</th>\n",
       "      <th>Subcategory</th>\n",
       "      <th>Country</th>\n",
       "      <th>Launched</th>\n",
       "      <th>Deadline</th>\n",
       "      <th>Goal</th>\n",
       "      <th>Pledged</th>\n",
       "      <th>Backers</th>\n",
       "      <th>State</th>\n",
       "    </tr>\n",
       "  </thead>\n",
       "  <tbody>\n",
       "  </tbody>\n",
       "</table>\n",
       "</div>"
      ],
      "text/plain": [
       "Empty DataFrame\n",
       "Columns: [ID, Name, Category, Subcategory, Country, Launched, Deadline, Goal, Pledged, Backers, State]\n",
       "Index: []"
      ]
     },
     "metadata": {},
     "output_type": "display_data"
    }
   ],
   "source": [
    "nan_df = df[df.isna().any(axis=1)]\n",
    "display(nan_df.head())"
   ]
  },
  {
   "cell_type": "markdown",
   "id": "9ecaaf10",
   "metadata": {},
   "source": [
    "# Checking for Outliers"
   ]
  },
  {
   "cell_type": "code",
   "execution_count": 15,
   "id": "a9b36a0b",
   "metadata": {},
   "outputs": [
    {
     "name": "stdout",
     "output_type": "stream",
     "text": [
      "count    3.748530e+05\n",
      "mean     4.586378e+04\n",
      "std      1.158778e+06\n",
      "min      0.000000e+00\n",
      "25%      2.000000e+03\n",
      "50%      5.500000e+03\n",
      "75%      1.600000e+04\n",
      "max      1.663614e+08\n",
      "Name: Goal, dtype: float64\n"
     ]
    }
   ],
   "source": [
    "df['Goal'].describe()\n",
    "print(df['Goal'].describe())"
   ]
  },
  {
   "cell_type": "code",
   "execution_count": 18,
   "id": "aded6675",
   "metadata": {},
   "outputs": [
    {
     "name": "stdout",
     "output_type": "stream",
     "text": [
      "Count: 374853\n",
      "Mean: 45863.78479563989\n",
      "Standard deviation: 1158776.6330969557\n",
      "Minimum: 0\n",
      "Maximum: 166361391\n"
     ]
    }
   ],
   "source": [
    "count = len(df['Goal'])\n",
    "mean = np.mean(df['Goal'])\n",
    "std_dev = np.std(df['Goal'])\n",
    "min_val = np.min(df['Goal'])\n",
    "max_val = np.max(df['Goal'])\n",
    "\n",
    "# print the results\n",
    "print('Count:', count)\n",
    "print('Mean:', mean)\n",
    "print('Standard deviation:', std_dev)\n",
    "print('Minimum:', min_val)\n",
    "print('Maximum:', max_val)\n"
   ]
  },
  {
   "cell_type": "code",
   "execution_count": 20,
   "id": "67cf5220",
   "metadata": {},
   "outputs": [
    {
     "name": "stdout",
     "output_type": "stream",
     "text": [
      "count    3.748530e+05\n",
      "mean     9.121073e+03\n",
      "std      9.132054e+04\n",
      "min      0.000000e+00\n",
      "25%      3.100000e+01\n",
      "50%      6.250000e+02\n",
      "75%      4.051000e+03\n",
      "max      2.033899e+07\n",
      "Name: Pledged, dtype: float64\n"
     ]
    }
   ],
   "source": [
    "df['Pledged'].describe()\n",
    "print(df['Pledged'].describe())"
   ]
  },
  {
   "cell_type": "code",
   "execution_count": 21,
   "id": "a417195b",
   "metadata": {},
   "outputs": [
    {
     "name": "stdout",
     "output_type": "stream",
     "text": [
      "count    374853.000000\n",
      "mean        106.690359\n",
      "std         911.718520\n",
      "min           0.000000\n",
      "25%           2.000000\n",
      "50%          12.000000\n",
      "75%          57.000000\n",
      "max      219382.000000\n",
      "Name: Backers, dtype: float64\n"
     ]
    }
   ],
   "source": [
    "df['Backers'].describe()\n",
    "print(df['Backers'].describe())"
   ]
  },
  {
   "cell_type": "markdown",
   "id": "555b47c6",
   "metadata": {},
   "source": [
    "# Create New Column Percent of Goal Pledged"
   ]
  },
  {
   "cell_type": "code",
   "execution_count": 23,
   "id": "f5d3eb91",
   "metadata": {
    "scrolled": true
   },
   "outputs": [
    {
     "data": {
      "text/html": [
       "<div>\n",
       "<style scoped>\n",
       "    .dataframe tbody tr th:only-of-type {\n",
       "        vertical-align: middle;\n",
       "    }\n",
       "\n",
       "    .dataframe tbody tr th {\n",
       "        vertical-align: top;\n",
       "    }\n",
       "\n",
       "    .dataframe thead th {\n",
       "        text-align: right;\n",
       "    }\n",
       "</style>\n",
       "<table border=\"1\" class=\"dataframe\">\n",
       "  <thead>\n",
       "    <tr style=\"text-align: right;\">\n",
       "      <th></th>\n",
       "      <th>ID</th>\n",
       "      <th>Name</th>\n",
       "      <th>Category</th>\n",
       "      <th>Subcategory</th>\n",
       "      <th>Country</th>\n",
       "      <th>Launched</th>\n",
       "      <th>Deadline</th>\n",
       "      <th>Goal</th>\n",
       "      <th>Pledged</th>\n",
       "      <th>Backers</th>\n",
       "      <th>State</th>\n",
       "      <th>Percent Goal Pledged</th>\n",
       "    </tr>\n",
       "  </thead>\n",
       "  <tbody>\n",
       "    <tr>\n",
       "      <th>0</th>\n",
       "      <td>1860890148</td>\n",
       "      <td>Grace Jones Does Not Give A F$#% T-Shirt (limi...</td>\n",
       "      <td>Fashion</td>\n",
       "      <td>Fashion</td>\n",
       "      <td>United States</td>\n",
       "      <td>2009-04-21 21:02:48</td>\n",
       "      <td>2009-05-31</td>\n",
       "      <td>1000</td>\n",
       "      <td>625</td>\n",
       "      <td>30</td>\n",
       "      <td>Failed</td>\n",
       "      <td>0.625000</td>\n",
       "    </tr>\n",
       "    <tr>\n",
       "      <th>1</th>\n",
       "      <td>709707365</td>\n",
       "      <td>CRYSTAL ANTLERS UNTITLED MOVIE</td>\n",
       "      <td>Film &amp; Video</td>\n",
       "      <td>Shorts</td>\n",
       "      <td>United States</td>\n",
       "      <td>2009-04-23 00:07:53</td>\n",
       "      <td>2009-07-20</td>\n",
       "      <td>80000</td>\n",
       "      <td>22</td>\n",
       "      <td>3</td>\n",
       "      <td>Failed</td>\n",
       "      <td>0.000275</td>\n",
       "    </tr>\n",
       "    <tr>\n",
       "      <th>2</th>\n",
       "      <td>1703704063</td>\n",
       "      <td>drawing for dollars</td>\n",
       "      <td>Art</td>\n",
       "      <td>Illustration</td>\n",
       "      <td>United States</td>\n",
       "      <td>2009-04-24 21:52:03</td>\n",
       "      <td>2009-05-03</td>\n",
       "      <td>20</td>\n",
       "      <td>35</td>\n",
       "      <td>3</td>\n",
       "      <td>Successful</td>\n",
       "      <td>1.750000</td>\n",
       "    </tr>\n",
       "    <tr>\n",
       "      <th>3</th>\n",
       "      <td>727286</td>\n",
       "      <td>Offline Wikipedia iPhone app</td>\n",
       "      <td>Technology</td>\n",
       "      <td>Software</td>\n",
       "      <td>United States</td>\n",
       "      <td>2009-04-25 17:36:21</td>\n",
       "      <td>2009-07-14</td>\n",
       "      <td>99</td>\n",
       "      <td>145</td>\n",
       "      <td>25</td>\n",
       "      <td>Successful</td>\n",
       "      <td>1.464646</td>\n",
       "    </tr>\n",
       "    <tr>\n",
       "      <th>4</th>\n",
       "      <td>1622952265</td>\n",
       "      <td>Pantshirts</td>\n",
       "      <td>Fashion</td>\n",
       "      <td>Fashion</td>\n",
       "      <td>United States</td>\n",
       "      <td>2009-04-27 14:10:39</td>\n",
       "      <td>2009-05-26</td>\n",
       "      <td>1900</td>\n",
       "      <td>387</td>\n",
       "      <td>10</td>\n",
       "      <td>Failed</td>\n",
       "      <td>0.203684</td>\n",
       "    </tr>\n",
       "  </tbody>\n",
       "</table>\n",
       "</div>"
      ],
      "text/plain": [
       "           ID                                               Name  \\\n",
       "0  1860890148  Grace Jones Does Not Give A F$#% T-Shirt (limi...   \n",
       "1   709707365                     CRYSTAL ANTLERS UNTITLED MOVIE   \n",
       "2  1703704063                                drawing for dollars   \n",
       "3      727286                       Offline Wikipedia iPhone app   \n",
       "4  1622952265                                         Pantshirts   \n",
       "\n",
       "       Category   Subcategory        Country            Launched   Deadline  \\\n",
       "0       Fashion       Fashion  United States 2009-04-21 21:02:48 2009-05-31   \n",
       "1  Film & Video        Shorts  United States 2009-04-23 00:07:53 2009-07-20   \n",
       "2           Art  Illustration  United States 2009-04-24 21:52:03 2009-05-03   \n",
       "3    Technology      Software  United States 2009-04-25 17:36:21 2009-07-14   \n",
       "4       Fashion       Fashion  United States 2009-04-27 14:10:39 2009-05-26   \n",
       "\n",
       "    Goal  Pledged  Backers       State  Percent Goal Pledged  \n",
       "0   1000      625       30      Failed              0.625000  \n",
       "1  80000       22        3      Failed              0.000275  \n",
       "2     20       35        3  Successful              1.750000  \n",
       "3     99      145       25  Successful              1.464646  \n",
       "4   1900      387       10      Failed              0.203684  "
      ]
     },
     "execution_count": 23,
     "metadata": {},
     "output_type": "execute_result"
    }
   ],
   "source": [
    "df['Percent Goal Pledged'] = df['Pledged'].apply(int) / df['Goal'].apply(int)\n",
    "df.head()"
   ]
  },
  {
   "cell_type": "code",
   "execution_count": 101,
   "id": "09296f45",
   "metadata": {
    "scrolled": true
   },
   "outputs": [
    {
     "data": {
      "text/html": [
       "<div>\n",
       "<style scoped>\n",
       "    .dataframe tbody tr th:only-of-type {\n",
       "        vertical-align: middle;\n",
       "    }\n",
       "\n",
       "    .dataframe tbody tr th {\n",
       "        vertical-align: top;\n",
       "    }\n",
       "\n",
       "    .dataframe thead th {\n",
       "        text-align: right;\n",
       "    }\n",
       "</style>\n",
       "<table border=\"1\" class=\"dataframe\">\n",
       "  <thead>\n",
       "    <tr style=\"text-align: right;\">\n",
       "      <th></th>\n",
       "      <th>ID</th>\n",
       "      <th>Name</th>\n",
       "      <th>Category</th>\n",
       "      <th>Subcategory</th>\n",
       "      <th>Country</th>\n",
       "      <th>Launched</th>\n",
       "      <th>Deadline</th>\n",
       "      <th>Goal</th>\n",
       "      <th>Pledged</th>\n",
       "      <th>Backers</th>\n",
       "      <th>State</th>\n",
       "      <th>Percent Goal Pledged</th>\n",
       "      <th>Campaign Length</th>\n",
       "      <th>Campaign Length Cat</th>\n",
       "      <th>Goal Level</th>\n",
       "      <th>Year</th>\n",
       "      <th>Percent Goal Pledge Level</th>\n",
       "    </tr>\n",
       "  </thead>\n",
       "  <tbody>\n",
       "    <tr>\n",
       "      <th>0</th>\n",
       "      <td>1860890148</td>\n",
       "      <td>Grace Jones Does Not Give A F$#% T-Shirt (limi...</td>\n",
       "      <td>Fashion</td>\n",
       "      <td>Fashion</td>\n",
       "      <td>United States</td>\n",
       "      <td>2009-04-21 21:02:48</td>\n",
       "      <td>2009-05-31</td>\n",
       "      <td>1000</td>\n",
       "      <td>625</td>\n",
       "      <td>30</td>\n",
       "      <td>Failed</td>\n",
       "      <td>0.625000</td>\n",
       "      <td>39</td>\n",
       "      <td>31 to 60 Days</td>\n",
       "      <td>1 - $1,000 or Less</td>\n",
       "      <td>2009</td>\n",
       "      <td>5 - Goal Achieved</td>\n",
       "    </tr>\n",
       "    <tr>\n",
       "      <th>1</th>\n",
       "      <td>709707365</td>\n",
       "      <td>CRYSTAL ANTLERS UNTITLED MOVIE</td>\n",
       "      <td>Film &amp; Video</td>\n",
       "      <td>Shorts</td>\n",
       "      <td>United States</td>\n",
       "      <td>2009-04-23 00:07:53</td>\n",
       "      <td>2009-07-20</td>\n",
       "      <td>80000</td>\n",
       "      <td>22</td>\n",
       "      <td>3</td>\n",
       "      <td>Failed</td>\n",
       "      <td>0.000275</td>\n",
       "      <td>87</td>\n",
       "      <td>61 to 91 Days</td>\n",
       "      <td>5 - $25,001 or more</td>\n",
       "      <td>2009</td>\n",
       "      <td>1 - 25% or less</td>\n",
       "    </tr>\n",
       "    <tr>\n",
       "      <th>2</th>\n",
       "      <td>1703704063</td>\n",
       "      <td>drawing for dollars</td>\n",
       "      <td>Art</td>\n",
       "      <td>Illustration</td>\n",
       "      <td>United States</td>\n",
       "      <td>2009-04-24 21:52:03</td>\n",
       "      <td>2009-05-03</td>\n",
       "      <td>20</td>\n",
       "      <td>35</td>\n",
       "      <td>3</td>\n",
       "      <td>Successful</td>\n",
       "      <td>1.750000</td>\n",
       "      <td>8</td>\n",
       "      <td>30 Days or Less</td>\n",
       "      <td>1 - $1,000 or Less</td>\n",
       "      <td>2009</td>\n",
       "      <td>5 - Goal Achieved</td>\n",
       "    </tr>\n",
       "    <tr>\n",
       "      <th>3</th>\n",
       "      <td>727286</td>\n",
       "      <td>Offline Wikipedia iPhone app</td>\n",
       "      <td>Technology</td>\n",
       "      <td>Software</td>\n",
       "      <td>United States</td>\n",
       "      <td>2009-04-25 17:36:21</td>\n",
       "      <td>2009-07-14</td>\n",
       "      <td>99</td>\n",
       "      <td>145</td>\n",
       "      <td>25</td>\n",
       "      <td>Successful</td>\n",
       "      <td>1.464646</td>\n",
       "      <td>79</td>\n",
       "      <td>61 to 91 Days</td>\n",
       "      <td>1 - $1,000 or Less</td>\n",
       "      <td>2009</td>\n",
       "      <td>5 - Goal Achieved</td>\n",
       "    </tr>\n",
       "    <tr>\n",
       "      <th>4</th>\n",
       "      <td>1622952265</td>\n",
       "      <td>Pantshirts</td>\n",
       "      <td>Fashion</td>\n",
       "      <td>Fashion</td>\n",
       "      <td>United States</td>\n",
       "      <td>2009-04-27 14:10:39</td>\n",
       "      <td>2009-05-26</td>\n",
       "      <td>1900</td>\n",
       "      <td>387</td>\n",
       "      <td>10</td>\n",
       "      <td>Failed</td>\n",
       "      <td>0.203684</td>\n",
       "      <td>28</td>\n",
       "      <td>30 Days or Less</td>\n",
       "      <td>2 - $1,001 to $5,000</td>\n",
       "      <td>2009</td>\n",
       "      <td>1 - 25% or less</td>\n",
       "    </tr>\n",
       "  </tbody>\n",
       "</table>\n",
       "</div>"
      ],
      "text/plain": [
       "           ID                                               Name  \\\n",
       "0  1860890148  Grace Jones Does Not Give A F$#% T-Shirt (limi...   \n",
       "1   709707365                     CRYSTAL ANTLERS UNTITLED MOVIE   \n",
       "2  1703704063                                drawing for dollars   \n",
       "3      727286                       Offline Wikipedia iPhone app   \n",
       "4  1622952265                                         Pantshirts   \n",
       "\n",
       "       Category   Subcategory        Country            Launched   Deadline  \\\n",
       "0       Fashion       Fashion  United States 2009-04-21 21:02:48 2009-05-31   \n",
       "1  Film & Video        Shorts  United States 2009-04-23 00:07:53 2009-07-20   \n",
       "2           Art  Illustration  United States 2009-04-24 21:52:03 2009-05-03   \n",
       "3    Technology      Software  United States 2009-04-25 17:36:21 2009-07-14   \n",
       "4       Fashion       Fashion  United States 2009-04-27 14:10:39 2009-05-26   \n",
       "\n",
       "    Goal  Pledged  Backers       State  Percent Goal Pledged  Campaign Length  \\\n",
       "0   1000      625       30      Failed              0.625000               39   \n",
       "1  80000       22        3      Failed              0.000275               87   \n",
       "2     20       35        3  Successful              1.750000                8   \n",
       "3     99      145       25  Successful              1.464646               79   \n",
       "4   1900      387       10      Failed              0.203684               28   \n",
       "\n",
       "  Campaign Length Cat            Goal Level  Year Percent Goal Pledge Level  \n",
       "0       31 to 60 Days    1 - $1,000 or Less  2009         5 - Goal Achieved  \n",
       "1       61 to 91 Days   5 - $25,001 or more  2009           1 - 25% or less  \n",
       "2     30 Days or Less    1 - $1,000 or Less  2009         5 - Goal Achieved  \n",
       "3       61 to 91 Days    1 - $1,000 or Less  2009         5 - Goal Achieved  \n",
       "4     30 Days or Less  2 - $1,001 to $5,000  2009           1 - 25% or less  "
      ]
     },
     "execution_count": 101,
     "metadata": {},
     "output_type": "execute_result"
    }
   ],
   "source": [
    "df['Percent Goal Pledge Level'] = np.where(df['Percent Goal Pledged'] <= .25, '1 - 25% or less',\n",
    "                   np.where(df['Goal'] <= .5, '2 - 25.01% to 50%',                 \n",
    "                   np.where(df['Goal'] <= .75, '3 - 50.01% to 75%',       \n",
    "                   np.where(df['Goal'] <= .9999, '4 - 75.01% to 99.999%',\n",
    "                   np.where(df['Goal'] >= 1, '5 - Goal Achieved', 'else')))))\n",
    "df.head()"
   ]
  },
  {
   "cell_type": "markdown",
   "id": "db88b8f9",
   "metadata": {},
   "source": [
    "# The Case Count of Percent of Goal Pledge Level Shows Most Failed Campaigns Didn't Get Above 25% of Goal Amount "
   ]
  },
  {
   "cell_type": "code",
   "execution_count": 103,
   "id": "793f7ce7",
   "metadata": {},
   "outputs": [
    {
     "data": {
      "text/plain": [
       "1 - 25% or less      210037\n",
       "5 - Goal Achieved    164812\n",
       "2 - 25.01% to 50%         4\n",
       "Name: Percent Goal Pledge Level, dtype: int64"
      ]
     },
     "execution_count": 103,
     "metadata": {},
     "output_type": "execute_result"
    }
   ],
   "source": [
    "df['Percent Goal Pledge Level'].value_counts()"
   ]
  },
  {
   "cell_type": "markdown",
   "id": "6baec66e",
   "metadata": {},
   "source": [
    "# Create New Column With Case Statement to Categorize Goal Level"
   ]
  },
  {
   "cell_type": "code",
   "execution_count": 86,
   "id": "bc37be96",
   "metadata": {},
   "outputs": [
    {
     "data": {
      "text/html": [
       "<div>\n",
       "<style scoped>\n",
       "    .dataframe tbody tr th:only-of-type {\n",
       "        vertical-align: middle;\n",
       "    }\n",
       "\n",
       "    .dataframe tbody tr th {\n",
       "        vertical-align: top;\n",
       "    }\n",
       "\n",
       "    .dataframe thead th {\n",
       "        text-align: right;\n",
       "    }\n",
       "</style>\n",
       "<table border=\"1\" class=\"dataframe\">\n",
       "  <thead>\n",
       "    <tr style=\"text-align: right;\">\n",
       "      <th></th>\n",
       "      <th>ID</th>\n",
       "      <th>Name</th>\n",
       "      <th>Category</th>\n",
       "      <th>Subcategory</th>\n",
       "      <th>Country</th>\n",
       "      <th>Launched</th>\n",
       "      <th>Deadline</th>\n",
       "      <th>Goal</th>\n",
       "      <th>Pledged</th>\n",
       "      <th>Backers</th>\n",
       "      <th>State</th>\n",
       "      <th>Percent Goal Pledged</th>\n",
       "      <th>Campaign Length</th>\n",
       "      <th>Campaign Length Cat</th>\n",
       "      <th>Goal Level</th>\n",
       "    </tr>\n",
       "  </thead>\n",
       "  <tbody>\n",
       "    <tr>\n",
       "      <th>0</th>\n",
       "      <td>1860890148</td>\n",
       "      <td>Grace Jones Does Not Give A F$#% T-Shirt (limi...</td>\n",
       "      <td>Fashion</td>\n",
       "      <td>Fashion</td>\n",
       "      <td>United States</td>\n",
       "      <td>2009-04-21 21:02:48</td>\n",
       "      <td>2009-05-31</td>\n",
       "      <td>1000</td>\n",
       "      <td>625</td>\n",
       "      <td>30</td>\n",
       "      <td>Failed</td>\n",
       "      <td>0.625000</td>\n",
       "      <td>39</td>\n",
       "      <td>31 to 60 Days</td>\n",
       "      <td>1 - $1,000 or Less</td>\n",
       "    </tr>\n",
       "    <tr>\n",
       "      <th>1</th>\n",
       "      <td>709707365</td>\n",
       "      <td>CRYSTAL ANTLERS UNTITLED MOVIE</td>\n",
       "      <td>Film &amp; Video</td>\n",
       "      <td>Shorts</td>\n",
       "      <td>United States</td>\n",
       "      <td>2009-04-23 00:07:53</td>\n",
       "      <td>2009-07-20</td>\n",
       "      <td>80000</td>\n",
       "      <td>22</td>\n",
       "      <td>3</td>\n",
       "      <td>Failed</td>\n",
       "      <td>0.000275</td>\n",
       "      <td>87</td>\n",
       "      <td>61 to 91 Days</td>\n",
       "      <td>5 - $25,001 or more</td>\n",
       "    </tr>\n",
       "    <tr>\n",
       "      <th>2</th>\n",
       "      <td>1703704063</td>\n",
       "      <td>drawing for dollars</td>\n",
       "      <td>Art</td>\n",
       "      <td>Illustration</td>\n",
       "      <td>United States</td>\n",
       "      <td>2009-04-24 21:52:03</td>\n",
       "      <td>2009-05-03</td>\n",
       "      <td>20</td>\n",
       "      <td>35</td>\n",
       "      <td>3</td>\n",
       "      <td>Successful</td>\n",
       "      <td>1.750000</td>\n",
       "      <td>8</td>\n",
       "      <td>30 Days or Less</td>\n",
       "      <td>1 - $1,000 or Less</td>\n",
       "    </tr>\n",
       "    <tr>\n",
       "      <th>3</th>\n",
       "      <td>727286</td>\n",
       "      <td>Offline Wikipedia iPhone app</td>\n",
       "      <td>Technology</td>\n",
       "      <td>Software</td>\n",
       "      <td>United States</td>\n",
       "      <td>2009-04-25 17:36:21</td>\n",
       "      <td>2009-07-14</td>\n",
       "      <td>99</td>\n",
       "      <td>145</td>\n",
       "      <td>25</td>\n",
       "      <td>Successful</td>\n",
       "      <td>1.464646</td>\n",
       "      <td>79</td>\n",
       "      <td>61 to 91 Days</td>\n",
       "      <td>1 - $1,000 or Less</td>\n",
       "    </tr>\n",
       "    <tr>\n",
       "      <th>4</th>\n",
       "      <td>1622952265</td>\n",
       "      <td>Pantshirts</td>\n",
       "      <td>Fashion</td>\n",
       "      <td>Fashion</td>\n",
       "      <td>United States</td>\n",
       "      <td>2009-04-27 14:10:39</td>\n",
       "      <td>2009-05-26</td>\n",
       "      <td>1900</td>\n",
       "      <td>387</td>\n",
       "      <td>10</td>\n",
       "      <td>Failed</td>\n",
       "      <td>0.203684</td>\n",
       "      <td>28</td>\n",
       "      <td>30 Days or Less</td>\n",
       "      <td>2 - $1,001 to $5,000</td>\n",
       "    </tr>\n",
       "  </tbody>\n",
       "</table>\n",
       "</div>"
      ],
      "text/plain": [
       "           ID                                               Name  \\\n",
       "0  1860890148  Grace Jones Does Not Give A F$#% T-Shirt (limi...   \n",
       "1   709707365                     CRYSTAL ANTLERS UNTITLED MOVIE   \n",
       "2  1703704063                                drawing for dollars   \n",
       "3      727286                       Offline Wikipedia iPhone app   \n",
       "4  1622952265                                         Pantshirts   \n",
       "\n",
       "       Category   Subcategory        Country            Launched   Deadline  \\\n",
       "0       Fashion       Fashion  United States 2009-04-21 21:02:48 2009-05-31   \n",
       "1  Film & Video        Shorts  United States 2009-04-23 00:07:53 2009-07-20   \n",
       "2           Art  Illustration  United States 2009-04-24 21:52:03 2009-05-03   \n",
       "3    Technology      Software  United States 2009-04-25 17:36:21 2009-07-14   \n",
       "4       Fashion       Fashion  United States 2009-04-27 14:10:39 2009-05-26   \n",
       "\n",
       "    Goal  Pledged  Backers       State  Percent Goal Pledged  Campaign Length  \\\n",
       "0   1000      625       30      Failed              0.625000               39   \n",
       "1  80000       22        3      Failed              0.000275               87   \n",
       "2     20       35        3  Successful              1.750000                8   \n",
       "3     99      145       25  Successful              1.464646               79   \n",
       "4   1900      387       10      Failed              0.203684               28   \n",
       "\n",
       "  Campaign Length Cat            Goal Level  \n",
       "0       31 to 60 Days    1 - $1,000 or Less  \n",
       "1       61 to 91 Days   5 - $25,001 or more  \n",
       "2     30 Days or Less    1 - $1,000 or Less  \n",
       "3       61 to 91 Days    1 - $1,000 or Less  \n",
       "4     30 Days or Less  2 - $1,001 to $5,000  "
      ]
     },
     "execution_count": 86,
     "metadata": {},
     "output_type": "execute_result"
    }
   ],
   "source": [
    "df['Goal Level'] = np.where(df['Goal'] <= 1000, '1 - $1,000 or Less',\n",
    "                   np.where(df['Goal'] <= 5000, '2 - $1,001 to $5,000',                 \n",
    "                   np.where(df['Goal'] <= 10000, '3 - $5,001 to $10,000',       \n",
    "                   np.where(df['Goal'] <= 25000, '4 - $10,001 to $25,000',\n",
    "                   np.where(df['Goal'] >= 25001, '5 - $25,001 or more', 'else')))))\n",
    "df.head()"
   ]
  },
  {
   "cell_type": "code",
   "execution_count": 87,
   "id": "b23b93a1",
   "metadata": {},
   "outputs": [
    {
     "data": {
      "text/plain": [
       "2 - $1,001 to $5,000      123061\n",
       "3 - $5,001 to $10,000      66517\n",
       "4 - $10,001 to $25,000     63157\n",
       "5 - $25,001 or more        61228\n",
       "1 - $1,000 or Less         60890\n",
       "Name: Goal Level, dtype: int64"
      ]
     },
     "execution_count": 87,
     "metadata": {},
     "output_type": "execute_result"
    }
   ],
   "source": [
    "df['Goal Level'].value_counts()"
   ]
  },
  {
   "cell_type": "markdown",
   "id": "3d40c072",
   "metadata": {},
   "source": [
    "# Which Goal Levels Are Most Successful and Which Are Least Successful?"
   ]
  },
  {
   "cell_type": "code",
   "execution_count": 88,
   "id": "4b68b821",
   "metadata": {},
   "outputs": [
    {
     "name": "stdout",
     "output_type": "stream",
     "text": [
      "State                   Canceled    Failed      Live  Successful  Suspended\n",
      "Goal Level                                                                 \n",
      "1 - $1,000 or Less      0.073132  0.421038  0.007210    0.490195   0.008425\n",
      "2 - $1,001 to $5,000    0.077238  0.487262  0.006753    0.425220   0.003527\n",
      "3 - $5,001 to $10,000   0.098215  0.538524  0.008028    0.350948   0.004285\n",
      "4 - $10,001 to $25,000  0.120509  0.573681  0.007648    0.294251   0.003911\n",
      "5 - $25,001 or more     0.173924  0.652610  0.008346    0.159192   0.005929\n"
     ]
    }
   ],
   "source": [
    "# create the cross tabulation with row-wise normalization\n",
    "ct = pd.crosstab(df['Goal Level'], df['State'], normalize='index')\n",
    "\n",
    "# format the values as percentages with two decimal places\n",
    "ct_sorted = ct.sort_values(by='Successful', ascending=False)\n",
    "\n",
    "# display the formatted cross tabulation\n",
    "print(ct_sorted)"
   ]
  },
  {
   "cell_type": "markdown",
   "id": "f2ecf64d",
   "metadata": {},
   "source": [
    "# Parse Year from Launched Column and Create New Column Named 'Year'"
   ]
  },
  {
   "cell_type": "code",
   "execution_count": 89,
   "id": "2edad3b0",
   "metadata": {
    "scrolled": true
   },
   "outputs": [
    {
     "data": {
      "text/html": [
       "<div>\n",
       "<style scoped>\n",
       "    .dataframe tbody tr th:only-of-type {\n",
       "        vertical-align: middle;\n",
       "    }\n",
       "\n",
       "    .dataframe tbody tr th {\n",
       "        vertical-align: top;\n",
       "    }\n",
       "\n",
       "    .dataframe thead th {\n",
       "        text-align: right;\n",
       "    }\n",
       "</style>\n",
       "<table border=\"1\" class=\"dataframe\">\n",
       "  <thead>\n",
       "    <tr style=\"text-align: right;\">\n",
       "      <th></th>\n",
       "      <th>ID</th>\n",
       "      <th>Name</th>\n",
       "      <th>Category</th>\n",
       "      <th>Subcategory</th>\n",
       "      <th>Country</th>\n",
       "      <th>Launched</th>\n",
       "      <th>Deadline</th>\n",
       "      <th>Goal</th>\n",
       "      <th>Pledged</th>\n",
       "      <th>Backers</th>\n",
       "      <th>State</th>\n",
       "      <th>Percent Goal Pledged</th>\n",
       "      <th>Campaign Length</th>\n",
       "      <th>Campaign Length Cat</th>\n",
       "      <th>Goal Level</th>\n",
       "      <th>Year</th>\n",
       "    </tr>\n",
       "  </thead>\n",
       "  <tbody>\n",
       "    <tr>\n",
       "      <th>0</th>\n",
       "      <td>1860890148</td>\n",
       "      <td>Grace Jones Does Not Give A F$#% T-Shirt (limi...</td>\n",
       "      <td>Fashion</td>\n",
       "      <td>Fashion</td>\n",
       "      <td>United States</td>\n",
       "      <td>2009-04-21 21:02:48</td>\n",
       "      <td>2009-05-31</td>\n",
       "      <td>1000</td>\n",
       "      <td>625</td>\n",
       "      <td>30</td>\n",
       "      <td>Failed</td>\n",
       "      <td>0.625000</td>\n",
       "      <td>39</td>\n",
       "      <td>31 to 60 Days</td>\n",
       "      <td>1 - $1,000 or Less</td>\n",
       "      <td>2009</td>\n",
       "    </tr>\n",
       "    <tr>\n",
       "      <th>1</th>\n",
       "      <td>709707365</td>\n",
       "      <td>CRYSTAL ANTLERS UNTITLED MOVIE</td>\n",
       "      <td>Film &amp; Video</td>\n",
       "      <td>Shorts</td>\n",
       "      <td>United States</td>\n",
       "      <td>2009-04-23 00:07:53</td>\n",
       "      <td>2009-07-20</td>\n",
       "      <td>80000</td>\n",
       "      <td>22</td>\n",
       "      <td>3</td>\n",
       "      <td>Failed</td>\n",
       "      <td>0.000275</td>\n",
       "      <td>87</td>\n",
       "      <td>61 to 91 Days</td>\n",
       "      <td>5 - $25,001 or more</td>\n",
       "      <td>2009</td>\n",
       "    </tr>\n",
       "    <tr>\n",
       "      <th>2</th>\n",
       "      <td>1703704063</td>\n",
       "      <td>drawing for dollars</td>\n",
       "      <td>Art</td>\n",
       "      <td>Illustration</td>\n",
       "      <td>United States</td>\n",
       "      <td>2009-04-24 21:52:03</td>\n",
       "      <td>2009-05-03</td>\n",
       "      <td>20</td>\n",
       "      <td>35</td>\n",
       "      <td>3</td>\n",
       "      <td>Successful</td>\n",
       "      <td>1.750000</td>\n",
       "      <td>8</td>\n",
       "      <td>30 Days or Less</td>\n",
       "      <td>1 - $1,000 or Less</td>\n",
       "      <td>2009</td>\n",
       "    </tr>\n",
       "    <tr>\n",
       "      <th>3</th>\n",
       "      <td>727286</td>\n",
       "      <td>Offline Wikipedia iPhone app</td>\n",
       "      <td>Technology</td>\n",
       "      <td>Software</td>\n",
       "      <td>United States</td>\n",
       "      <td>2009-04-25 17:36:21</td>\n",
       "      <td>2009-07-14</td>\n",
       "      <td>99</td>\n",
       "      <td>145</td>\n",
       "      <td>25</td>\n",
       "      <td>Successful</td>\n",
       "      <td>1.464646</td>\n",
       "      <td>79</td>\n",
       "      <td>61 to 91 Days</td>\n",
       "      <td>1 - $1,000 or Less</td>\n",
       "      <td>2009</td>\n",
       "    </tr>\n",
       "    <tr>\n",
       "      <th>4</th>\n",
       "      <td>1622952265</td>\n",
       "      <td>Pantshirts</td>\n",
       "      <td>Fashion</td>\n",
       "      <td>Fashion</td>\n",
       "      <td>United States</td>\n",
       "      <td>2009-04-27 14:10:39</td>\n",
       "      <td>2009-05-26</td>\n",
       "      <td>1900</td>\n",
       "      <td>387</td>\n",
       "      <td>10</td>\n",
       "      <td>Failed</td>\n",
       "      <td>0.203684</td>\n",
       "      <td>28</td>\n",
       "      <td>30 Days or Less</td>\n",
       "      <td>2 - $1,001 to $5,000</td>\n",
       "      <td>2009</td>\n",
       "    </tr>\n",
       "  </tbody>\n",
       "</table>\n",
       "</div>"
      ],
      "text/plain": [
       "           ID                                               Name  \\\n",
       "0  1860890148  Grace Jones Does Not Give A F$#% T-Shirt (limi...   \n",
       "1   709707365                     CRYSTAL ANTLERS UNTITLED MOVIE   \n",
       "2  1703704063                                drawing for dollars   \n",
       "3      727286                       Offline Wikipedia iPhone app   \n",
       "4  1622952265                                         Pantshirts   \n",
       "\n",
       "       Category   Subcategory        Country            Launched   Deadline  \\\n",
       "0       Fashion       Fashion  United States 2009-04-21 21:02:48 2009-05-31   \n",
       "1  Film & Video        Shorts  United States 2009-04-23 00:07:53 2009-07-20   \n",
       "2           Art  Illustration  United States 2009-04-24 21:52:03 2009-05-03   \n",
       "3    Technology      Software  United States 2009-04-25 17:36:21 2009-07-14   \n",
       "4       Fashion       Fashion  United States 2009-04-27 14:10:39 2009-05-26   \n",
       "\n",
       "    Goal  Pledged  Backers       State  Percent Goal Pledged  Campaign Length  \\\n",
       "0   1000      625       30      Failed              0.625000               39   \n",
       "1  80000       22        3      Failed              0.000275               87   \n",
       "2     20       35        3  Successful              1.750000                8   \n",
       "3     99      145       25  Successful              1.464646               79   \n",
       "4   1900      387       10      Failed              0.203684               28   \n",
       "\n",
       "  Campaign Length Cat            Goal Level  Year  \n",
       "0       31 to 60 Days    1 - $1,000 or Less  2009  \n",
       "1       61 to 91 Days   5 - $25,001 or more  2009  \n",
       "2     30 Days or Less    1 - $1,000 or Less  2009  \n",
       "3       61 to 91 Days    1 - $1,000 or Less  2009  \n",
       "4     30 Days or Less  2 - $1,001 to $5,000  2009  "
      ]
     },
     "execution_count": 89,
     "metadata": {},
     "output_type": "execute_result"
    }
   ],
   "source": [
    "df['Year'] = df['Launched'].dt.year\n",
    "df.head()"
   ]
  },
  {
   "cell_type": "code",
   "execution_count": 90,
   "id": "822f2ae5",
   "metadata": {},
   "outputs": [
    {
     "data": {
      "text/plain": [
       "2015    74919\n",
       "2014    66993\n",
       "2016    56536\n",
       "2017    52200\n",
       "2013    44836\n",
       "2012    41161\n",
       "2011    26236\n",
       "2010    10519\n",
       "2009     1329\n",
       "2018      124\n",
       "Name: Year, dtype: int64"
      ]
     },
     "execution_count": 90,
     "metadata": {},
     "output_type": "execute_result"
    }
   ],
   "source": [
    "df['Year'].value_counts()"
   ]
  },
  {
   "cell_type": "markdown",
   "id": "5f128a53",
   "metadata": {},
   "source": [
    "# Cross Tab of Campaigns By Year in Aggregate and Percentage"
   ]
  },
  {
   "cell_type": "code",
   "execution_count": 120,
   "id": "41a14159",
   "metadata": {},
   "outputs": [
    {
     "name": "stdout",
     "output_type": "stream",
     "text": [
      "State  Canceled  Failed  Live  Successful  Suspended\n",
      "Year                                                \n",
      "2009        150     600     0         579          0\n",
      "2010        926    4984     0        4593         16\n",
      "2011       2144   11877     0       12171         44\n",
      "2012       2631   20586     0       17892         52\n",
      "2013       3690   21686     0       19402         58\n",
      "2014       7418   38199     0       21106        270\n",
      "2015       8926   44301     0       20971        721\n",
      "2016       7098   30421     1       18675        341\n",
      "2017       5766   24957  2675       18462        340\n",
      "2018          2       0   122           0          0\n"
     ]
    }
   ],
   "source": [
    "# create the cross tabulation\n",
    "ct = pd.crosstab(df['Year'], df['State'])\n",
    "\n",
    "# display the cross tabulation\n",
    "print(ct)"
   ]
  },
  {
   "cell_type": "code",
   "execution_count": 121,
   "id": "114ebb7b",
   "metadata": {},
   "outputs": [
    {
     "name": "stdout",
     "output_type": "stream",
     "text": [
      "State  Canceled    Failed      Live  Successful  Suspended\n",
      "Year                                                      \n",
      "2009   0.112867  0.451467  0.000000    0.435666   0.000000\n",
      "2010   0.088031  0.473809  0.000000    0.436638   0.001521\n",
      "2011   0.081720  0.452699  0.000000    0.463905   0.001677\n",
      "2012   0.063920  0.500134  0.000000    0.434683   0.001263\n",
      "2013   0.082300  0.483674  0.000000    0.432733   0.001294\n",
      "2014   0.110728  0.570194  0.000000    0.315048   0.004030\n",
      "2015   0.119142  0.591319  0.000000    0.279916   0.009624\n",
      "2016   0.125548  0.538082  0.000018    0.330321   0.006032\n",
      "2017   0.110460  0.478103  0.051245    0.353678   0.006513\n",
      "2018   0.016129  0.000000  0.983871    0.000000   0.000000\n"
     ]
    }
   ],
   "source": [
    "# create the cross tabulation with row-wise normalization\n",
    "ct = pd.crosstab(df['Year'], df['State'], normalize='index')\n",
    "\n",
    "# display the formatted cross tabulation\n",
    "print(ct)"
   ]
  },
  {
   "cell_type": "code",
   "execution_count": 123,
   "id": "ab1701e7",
   "metadata": {},
   "outputs": [
    {
     "data": {
      "image/png": "[encoded data removed]",
      "text/plain": [
       "<Figure size 640x480 with 1 Axes>"
      ]
     },
     "metadata": {},
     "output_type": "display_data"
    }
   ],
   "source": [
    "# filter rows for years 2009 to 2017\n",
    "ct_filtered = ct.loc['2009':'2017']\n",
    "\n",
    "# create a line chart\n",
    "plt.plot(ct_filtered.index, ct_filtered['Successful']*100)\n",
    "\n",
    "# format the chart\n",
    "plt.title('Campaign Success Rate by Year')\n",
    "plt.xlabel('Year')\n",
    "plt.ylabel('Successful Campaign (%)')\n",
    "plt.ylim(0, 100)\n",
    "plt.xticks(rotation=45)\n",
    "\n",
    "# display the chart\n",
    "plt.show()"
   ]
  },
  {
   "cell_type": "markdown",
   "id": "649c8928",
   "metadata": {},
   "source": [
    "# Create New Column Campaign Length"
   ]
  },
  {
   "cell_type": "code",
   "execution_count": 42,
   "id": "d2976be5",
   "metadata": {},
   "outputs": [
    {
     "data": {
      "text/html": [
       "<div>\n",
       "<style scoped>\n",
       "    .dataframe tbody tr th:only-of-type {\n",
       "        vertical-align: middle;\n",
       "    }\n",
       "\n",
       "    .dataframe tbody tr th {\n",
       "        vertical-align: top;\n",
       "    }\n",
       "\n",
       "    .dataframe thead th {\n",
       "        text-align: right;\n",
       "    }\n",
       "</style>\n",
       "<table border=\"1\" class=\"dataframe\">\n",
       "  <thead>\n",
       "    <tr style=\"text-align: right;\">\n",
       "      <th></th>\n",
       "      <th>ID</th>\n",
       "      <th>Name</th>\n",
       "      <th>Category</th>\n",
       "      <th>Subcategory</th>\n",
       "      <th>Country</th>\n",
       "      <th>Launched</th>\n",
       "      <th>Deadline</th>\n",
       "      <th>Goal</th>\n",
       "      <th>Pledged</th>\n",
       "      <th>Backers</th>\n",
       "      <th>State</th>\n",
       "      <th>Percent Goal Pledged</th>\n",
       "      <th>Campaign Length</th>\n",
       "    </tr>\n",
       "  </thead>\n",
       "  <tbody>\n",
       "    <tr>\n",
       "      <th>0</th>\n",
       "      <td>1860890148</td>\n",
       "      <td>Grace Jones Does Not Give A F$#% T-Shirt (limi...</td>\n",
       "      <td>Fashion</td>\n",
       "      <td>Fashion</td>\n",
       "      <td>United States</td>\n",
       "      <td>2009-04-21 21:02:48</td>\n",
       "      <td>2009-05-31</td>\n",
       "      <td>1000</td>\n",
       "      <td>625</td>\n",
       "      <td>30</td>\n",
       "      <td>Failed</td>\n",
       "      <td>0.625000</td>\n",
       "      <td>39</td>\n",
       "    </tr>\n",
       "    <tr>\n",
       "      <th>1</th>\n",
       "      <td>709707365</td>\n",
       "      <td>CRYSTAL ANTLERS UNTITLED MOVIE</td>\n",
       "      <td>Film &amp; Video</td>\n",
       "      <td>Shorts</td>\n",
       "      <td>United States</td>\n",
       "      <td>2009-04-23 00:07:53</td>\n",
       "      <td>2009-07-20</td>\n",
       "      <td>80000</td>\n",
       "      <td>22</td>\n",
       "      <td>3</td>\n",
       "      <td>Failed</td>\n",
       "      <td>0.000275</td>\n",
       "      <td>87</td>\n",
       "    </tr>\n",
       "    <tr>\n",
       "      <th>2</th>\n",
       "      <td>1703704063</td>\n",
       "      <td>drawing for dollars</td>\n",
       "      <td>Art</td>\n",
       "      <td>Illustration</td>\n",
       "      <td>United States</td>\n",
       "      <td>2009-04-24 21:52:03</td>\n",
       "      <td>2009-05-03</td>\n",
       "      <td>20</td>\n",
       "      <td>35</td>\n",
       "      <td>3</td>\n",
       "      <td>Successful</td>\n",
       "      <td>1.750000</td>\n",
       "      <td>8</td>\n",
       "    </tr>\n",
       "    <tr>\n",
       "      <th>3</th>\n",
       "      <td>727286</td>\n",
       "      <td>Offline Wikipedia iPhone app</td>\n",
       "      <td>Technology</td>\n",
       "      <td>Software</td>\n",
       "      <td>United States</td>\n",
       "      <td>2009-04-25 17:36:21</td>\n",
       "      <td>2009-07-14</td>\n",
       "      <td>99</td>\n",
       "      <td>145</td>\n",
       "      <td>25</td>\n",
       "      <td>Successful</td>\n",
       "      <td>1.464646</td>\n",
       "      <td>79</td>\n",
       "    </tr>\n",
       "    <tr>\n",
       "      <th>4</th>\n",
       "      <td>1622952265</td>\n",
       "      <td>Pantshirts</td>\n",
       "      <td>Fashion</td>\n",
       "      <td>Fashion</td>\n",
       "      <td>United States</td>\n",
       "      <td>2009-04-27 14:10:39</td>\n",
       "      <td>2009-05-26</td>\n",
       "      <td>1900</td>\n",
       "      <td>387</td>\n",
       "      <td>10</td>\n",
       "      <td>Failed</td>\n",
       "      <td>0.203684</td>\n",
       "      <td>28</td>\n",
       "    </tr>\n",
       "  </tbody>\n",
       "</table>\n",
       "</div>"
      ],
      "text/plain": [
       "           ID                                               Name  \\\n",
       "0  1860890148  Grace Jones Does Not Give A F$#% T-Shirt (limi...   \n",
       "1   709707365                     CRYSTAL ANTLERS UNTITLED MOVIE   \n",
       "2  1703704063                                drawing for dollars   \n",
       "3      727286                       Offline Wikipedia iPhone app   \n",
       "4  1622952265                                         Pantshirts   \n",
       "\n",
       "       Category   Subcategory        Country            Launched   Deadline  \\\n",
       "0       Fashion       Fashion  United States 2009-04-21 21:02:48 2009-05-31   \n",
       "1  Film & Video        Shorts  United States 2009-04-23 00:07:53 2009-07-20   \n",
       "2           Art  Illustration  United States 2009-04-24 21:52:03 2009-05-03   \n",
       "3    Technology      Software  United States 2009-04-25 17:36:21 2009-07-14   \n",
       "4       Fashion       Fashion  United States 2009-04-27 14:10:39 2009-05-26   \n",
       "\n",
       "    Goal  Pledged  Backers       State  Percent Goal Pledged  Campaign Length  \n",
       "0   1000      625       30      Failed              0.625000               39  \n",
       "1  80000       22        3      Failed              0.000275               87  \n",
       "2     20       35        3  Successful              1.750000                8  \n",
       "3     99      145       25  Successful              1.464646               79  \n",
       "4   1900      387       10      Failed              0.203684               28  "
      ]
     },
     "execution_count": 42,
     "metadata": {},
     "output_type": "execute_result"
    }
   ],
   "source": [
    "df['Campaign Length'] = (df['Deadline'] - df['Launched']).dt.days\n",
    "df.head()"
   ]
  },
  {
   "cell_type": "markdown",
   "id": "817ae305",
   "metadata": {},
   "source": [
    "# Average Campaign Length"
   ]
  },
  {
   "cell_type": "code",
   "execution_count": 43,
   "id": "9241f266",
   "metadata": {},
   "outputs": [
    {
     "name": "stdout",
     "output_type": "stream",
     "text": [
      "Count: 374853\n",
      "Mean: 33.21719180585456\n",
      "Standard deviation: 12.804778149172208\n",
      "Minimum: 0\n",
      "Maximum: 91\n"
     ]
    }
   ],
   "source": [
    "count = len(df['Campaign Length'])\n",
    "mean = np.mean(df['Campaign Length'])\n",
    "std_dev = np.std(df['Campaign Length'])\n",
    "min_val = np.min(df['Campaign Length'])\n",
    "max_val = np.max(df['Campaign Length'])\n",
    "\n",
    "# print the results\n",
    "print('Count:', count)\n",
    "print('Mean:', mean)\n",
    "print('Standard deviation:', std_dev)\n",
    "print('Minimum:', min_val)\n",
    "print('Maximum:', max_val)"
   ]
  },
  {
   "cell_type": "markdown",
   "id": "98514088",
   "metadata": {},
   "source": [
    "# Create a New Column With Case Statement To Categorize Campaign Lengths"
   ]
  },
  {
   "cell_type": "code",
   "execution_count": 77,
   "id": "7233e2ef",
   "metadata": {},
   "outputs": [
    {
     "data": {
      "text/html": [
       "<div>\n",
       "<style scoped>\n",
       "    .dataframe tbody tr th:only-of-type {\n",
       "        vertical-align: middle;\n",
       "    }\n",
       "\n",
       "    .dataframe tbody tr th {\n",
       "        vertical-align: top;\n",
       "    }\n",
       "\n",
       "    .dataframe thead th {\n",
       "        text-align: right;\n",
       "    }\n",
       "</style>\n",
       "<table border=\"1\" class=\"dataframe\">\n",
       "  <thead>\n",
       "    <tr style=\"text-align: right;\">\n",
       "      <th></th>\n",
       "      <th>ID</th>\n",
       "      <th>Name</th>\n",
       "      <th>Category</th>\n",
       "      <th>Subcategory</th>\n",
       "      <th>Country</th>\n",
       "      <th>Launched</th>\n",
       "      <th>Deadline</th>\n",
       "      <th>Goal</th>\n",
       "      <th>Pledged</th>\n",
       "      <th>Backers</th>\n",
       "      <th>State</th>\n",
       "      <th>Percent Goal Pledged</th>\n",
       "      <th>Campaign Length</th>\n",
       "      <th>Campaign Length Cat</th>\n",
       "    </tr>\n",
       "  </thead>\n",
       "  <tbody>\n",
       "    <tr>\n",
       "      <th>0</th>\n",
       "      <td>1860890148</td>\n",
       "      <td>Grace Jones Does Not Give A F$#% T-Shirt (limi...</td>\n",
       "      <td>Fashion</td>\n",
       "      <td>Fashion</td>\n",
       "      <td>United States</td>\n",
       "      <td>2009-04-21 21:02:48</td>\n",
       "      <td>2009-05-31</td>\n",
       "      <td>1000</td>\n",
       "      <td>625</td>\n",
       "      <td>30</td>\n",
       "      <td>Failed</td>\n",
       "      <td>0.625000</td>\n",
       "      <td>39</td>\n",
       "      <td>31 to 60 Days</td>\n",
       "    </tr>\n",
       "    <tr>\n",
       "      <th>1</th>\n",
       "      <td>709707365</td>\n",
       "      <td>CRYSTAL ANTLERS UNTITLED MOVIE</td>\n",
       "      <td>Film &amp; Video</td>\n",
       "      <td>Shorts</td>\n",
       "      <td>United States</td>\n",
       "      <td>2009-04-23 00:07:53</td>\n",
       "      <td>2009-07-20</td>\n",
       "      <td>80000</td>\n",
       "      <td>22</td>\n",
       "      <td>3</td>\n",
       "      <td>Failed</td>\n",
       "      <td>0.000275</td>\n",
       "      <td>87</td>\n",
       "      <td>61 to 91 Days</td>\n",
       "    </tr>\n",
       "    <tr>\n",
       "      <th>2</th>\n",
       "      <td>1703704063</td>\n",
       "      <td>drawing for dollars</td>\n",
       "      <td>Art</td>\n",
       "      <td>Illustration</td>\n",
       "      <td>United States</td>\n",
       "      <td>2009-04-24 21:52:03</td>\n",
       "      <td>2009-05-03</td>\n",
       "      <td>20</td>\n",
       "      <td>35</td>\n",
       "      <td>3</td>\n",
       "      <td>Successful</td>\n",
       "      <td>1.750000</td>\n",
       "      <td>8</td>\n",
       "      <td>30 Days or Less</td>\n",
       "    </tr>\n",
       "    <tr>\n",
       "      <th>3</th>\n",
       "      <td>727286</td>\n",
       "      <td>Offline Wikipedia iPhone app</td>\n",
       "      <td>Technology</td>\n",
       "      <td>Software</td>\n",
       "      <td>United States</td>\n",
       "      <td>2009-04-25 17:36:21</td>\n",
       "      <td>2009-07-14</td>\n",
       "      <td>99</td>\n",
       "      <td>145</td>\n",
       "      <td>25</td>\n",
       "      <td>Successful</td>\n",
       "      <td>1.464646</td>\n",
       "      <td>79</td>\n",
       "      <td>61 to 91 Days</td>\n",
       "    </tr>\n",
       "    <tr>\n",
       "      <th>4</th>\n",
       "      <td>1622952265</td>\n",
       "      <td>Pantshirts</td>\n",
       "      <td>Fashion</td>\n",
       "      <td>Fashion</td>\n",
       "      <td>United States</td>\n",
       "      <td>2009-04-27 14:10:39</td>\n",
       "      <td>2009-05-26</td>\n",
       "      <td>1900</td>\n",
       "      <td>387</td>\n",
       "      <td>10</td>\n",
       "      <td>Failed</td>\n",
       "      <td>0.203684</td>\n",
       "      <td>28</td>\n",
       "      <td>30 Days or Less</td>\n",
       "    </tr>\n",
       "  </tbody>\n",
       "</table>\n",
       "</div>"
      ],
      "text/plain": [
       "           ID                                               Name  \\\n",
       "0  1860890148  Grace Jones Does Not Give A F$#% T-Shirt (limi...   \n",
       "1   709707365                     CRYSTAL ANTLERS UNTITLED MOVIE   \n",
       "2  1703704063                                drawing for dollars   \n",
       "3      727286                       Offline Wikipedia iPhone app   \n",
       "4  1622952265                                         Pantshirts   \n",
       "\n",
       "       Category   Subcategory        Country            Launched   Deadline  \\\n",
       "0       Fashion       Fashion  United States 2009-04-21 21:02:48 2009-05-31   \n",
       "1  Film & Video        Shorts  United States 2009-04-23 00:07:53 2009-07-20   \n",
       "2           Art  Illustration  United States 2009-04-24 21:52:03 2009-05-03   \n",
       "3    Technology      Software  United States 2009-04-25 17:36:21 2009-07-14   \n",
       "4       Fashion       Fashion  United States 2009-04-27 14:10:39 2009-05-26   \n",
       "\n",
       "    Goal  Pledged  Backers       State  Percent Goal Pledged  Campaign Length  \\\n",
       "0   1000      625       30      Failed              0.625000               39   \n",
       "1  80000       22        3      Failed              0.000275               87   \n",
       "2     20       35        3  Successful              1.750000                8   \n",
       "3     99      145       25  Successful              1.464646               79   \n",
       "4   1900      387       10      Failed              0.203684               28   \n",
       "\n",
       "  Campaign Length Cat  \n",
       "0       31 to 60 Days  \n",
       "1       61 to 91 Days  \n",
       "2     30 Days or Less  \n",
       "3       61 to 91 Days  \n",
       "4     30 Days or Less  "
      ]
     },
     "execution_count": 77,
     "metadata": {},
     "output_type": "execute_result"
    }
   ],
   "source": [
    "df['Campaign Length Cat'] = np.where(df['Campaign Length'] <= 30, '30 Days or Less',\n",
    "                                     np.where(df['Campaign Length'] <= 60, '31 to 60 Days', '61 to 91 Days'))\n",
    "df.head()"
   ]
  },
  {
   "cell_type": "markdown",
   "id": "8f9817b6",
   "metadata": {},
   "source": [
    "# Breakdown of Campaign Lengths By Percentage"
   ]
  },
  {
   "cell_type": "code",
   "execution_count": 50,
   "id": "aa43a491",
   "metadata": {},
   "outputs": [
    {
     "name": "stdout",
     "output_type": "stream",
     "text": [
      "  Campaign Length Cat   Count  Percentage\n",
      "0     30 Days or Less  249276   66.499668\n",
      "1       31 to 60 Days  120869   32.244373\n",
      "2       61 to 91 Days    4708    1.255959\n"
     ]
    }
   ],
   "source": [
    "count=df['Campaign Length Cat'].value_counts()\n",
    "\n",
    "# calculate the percentage of each category\n",
    "percent = count / len(df) * 100\n",
    "\n",
    "# create a new dataframe with the category, count, and percentage\n",
    "camp_len_df = pd.DataFrame({'Campaign Length Cat': count.index, 'Count': count.values, 'Percentage': percent.values})\n",
    "\n",
    "# print the new dataframe\n",
    "print(camp_len_df)"
   ]
  },
  {
   "cell_type": "code",
   "execution_count": 52,
   "id": "4cdb27b1",
   "metadata": {},
   "outputs": [
    {
     "data": {
      "image/png": "[encoded data removed]",
      "text/plain": [
       "<Figure size 640x480 with 1 Axes>"
      ]
     },
     "metadata": {},
     "output_type": "display_data"
    }
   ],
   "source": [
    "# get the count of values in each category and order in descending value\n",
    "count = df.groupby('Campaign Length Cat').size()\n",
    "count = count.sort_values(ascending=False)\n",
    "keys = count.index\n",
    "\n",
    "# plot the bar chart\n",
    "plt.bar(keys, count)\n",
    "plt.xticks(keys, rotation='horizontal', size=8)\n",
    "plt.ylabel('Number of Kickstarter Projects')\n",
    "plt.xlabel('Campaign Category Length')\n",
    "plt.title('Number of Kickstarter Projects Campaign Length')\n",
    "plt.show()"
   ]
  },
  {
   "cell_type": "markdown",
   "id": "99b52c9e",
   "metadata": {},
   "source": [
    "# How Many Projects Per Category?"
   ]
  },
  {
   "cell_type": "code",
   "execution_count": 25,
   "id": "525d97ca",
   "metadata": {},
   "outputs": [
    {
     "name": "stdout",
     "output_type": "stream",
     "text": [
      "Count of values in Category column:\n",
      " Film & Video    62694\n",
      "Music           49529\n",
      "Publishing      39378\n",
      "Games           35225\n",
      "Technology      32562\n",
      "Design          30065\n",
      "Art             28151\n",
      "Food            24599\n",
      "Fashion         22812\n",
      "Theater         10911\n",
      "Comics          10819\n",
      "Photography     10778\n",
      "Crafts           8809\n",
      "Journalism       4754\n",
      "Dance            3767\n",
      "Name: Category, dtype: int64\n"
     ]
    }
   ],
   "source": [
    "count = df['Category'].value_counts()\n",
    "print('Count of values in Category column:\\n', count)"
   ]
  },
  {
   "cell_type": "code",
   "execution_count": 37,
   "id": "c3a8f88b",
   "metadata": {},
   "outputs": [
    {
     "name": "stdout",
     "output_type": "stream",
     "text": [
      "        Category  Count  Percentage\n",
      "0   Film & Video  62694   16.724956\n",
      "1          Music  49529   13.212913\n",
      "2     Publishing  39378   10.504918\n",
      "3          Games  35225    9.397017\n",
      "4     Technology  32562    8.686605\n",
      "5         Design  30065    8.020477\n",
      "6            Art  28151    7.509877\n",
      "7           Food  24599    6.562306\n",
      "8        Fashion  22812    6.085586\n",
      "9        Theater  10911    2.910741\n",
      "10        Comics  10819    2.886198\n",
      "11   Photography  10778    2.875260\n",
      "12        Crafts   8809    2.349988\n",
      "13    Journalism   4754    1.268230\n",
      "14         Dance   3767    1.004927\n"
     ]
    }
   ],
   "source": [
    "# get the count of values in each category\n",
    "count = df['Category'].value_counts()\n",
    "\n",
    "# calculate the percentage of each category\n",
    "percent = count / len(df) * 100\n",
    "\n",
    "# create a new dataframe with the category, count, and percentage\n",
    "cat_df = pd.DataFrame({'Category': count.index, 'Count': count.values, 'Percentage': percent.values})\n",
    "\n",
    "# print the new dataframe\n",
    "print(cat_df)"
   ]
  },
  {
   "cell_type": "code",
   "execution_count": 29,
   "id": "163c10d0",
   "metadata": {},
   "outputs": [
    {
     "data": {
      "image/png": "[encoded data removed]",
      "text/plain": [
       "<Figure size 640x480 with 1 Axes>"
      ]
     },
     "metadata": {},
     "output_type": "display_data"
    }
   ],
   "source": [
    "# get the count of values in each category and order in descending value\n",
    "count = df.groupby('Category').size()\n",
    "count = count.sort_values(ascending=False)\n",
    "keys = count.index\n",
    "\n",
    "# plot the bar chart\n",
    "plt.bar(keys, count)\n",
    "plt.xticks(keys, rotation='vertical', size=8)\n",
    "plt.ylabel('Number of Kickstarter Projects')\n",
    "plt.xlabel('Project Category')\n",
    "plt.title('Number of Kickstarter Projects By Category')\n",
    "plt.show()"
   ]
  },
  {
   "cell_type": "markdown",
   "id": "798039e8",
   "metadata": {},
   "source": [
    "# Breakdown of Campaigns By Country"
   ]
  },
  {
   "cell_type": "code",
   "execution_count": 30,
   "id": "6d1f6658",
   "metadata": {
    "scrolled": true
   },
   "outputs": [
    {
     "name": "stdout",
     "output_type": "stream",
     "text": [
      "Count of values in Country column:\n",
      " United States     292618\n",
      "United Kingdom     33671\n",
      "Canada             14756\n",
      "Australia           7839\n",
      "Germany             4171\n",
      "France              2939\n",
      "Italy               2878\n",
      "Netherlands         2868\n",
      "Spain               2276\n",
      "Sweden              1757\n",
      "Mexico              1752\n",
      "New Zealand         1447\n",
      "Denmark             1113\n",
      "Ireland              811\n",
      "Switzerland          760\n",
      "Norway               708\n",
      "Hong Kong            618\n",
      "Belgium              617\n",
      "Austria              597\n",
      "Singapore            555\n",
      "Luxembourg            62\n",
      "Japan                 40\n",
      "Name: Country, dtype: int64\n"
     ]
    }
   ],
   "source": [
    "count = df['Country'].value_counts()a\n",
    "print('Count of values in Country column:\\n', count)"
   ]
  },
  {
   "cell_type": "code",
   "execution_count": 38,
   "id": "05cd8838",
   "metadata": {},
   "outputs": [
    {
     "name": "stdout",
     "output_type": "stream",
     "text": [
      "           Country   Count  Percentage\n",
      "0    United States  292618   78.062067\n",
      "1   United Kingdom   33671    8.982454\n",
      "2           Canada   14756    3.936476\n",
      "3        Australia    7839    2.091220\n",
      "4          Germany    4171    1.112703\n",
      "5           France    2939    0.784041\n",
      "6            Italy    2878    0.767768\n",
      "7     Netherlands     2868    0.765100\n",
      "8            Spain    2276    0.607171\n",
      "9           Sweden    1757    0.468717\n",
      "10          Mexico    1752    0.467383\n",
      "11     New Zealand    1447    0.386018\n",
      "12         Denmark    1113    0.296916\n",
      "13         Ireland     811    0.216351\n",
      "14     Switzerland     760    0.202746\n",
      "15          Norway     708    0.188874\n",
      "16       Hong Kong     618    0.164865\n",
      "17         Belgium     617    0.164598\n",
      "18         Austria     597    0.159262\n",
      "19       Singapore     555    0.148058\n",
      "20      Luxembourg      62    0.016540\n",
      "21           Japan      40    0.010671\n"
     ]
    }
   ],
   "source": [
    "# get the count of values in each country\n",
    "count = df['Country'].value_counts()\n",
    "\n",
    "# calculate the percentage of each country\n",
    "percent = count / len(df) * 100\n",
    "\n",
    "# create a new dataframe with the country, count, and percentage\n",
    "country_df = pd.DataFrame({'Country': count.index, 'Count': count.values, 'Percentage': percent.values})\n",
    "\n",
    "# print the new dataframe\n",
    "print(country_df)"
   ]
  },
  {
   "cell_type": "code",
   "execution_count": 124,
   "id": "412d705a",
   "metadata": {
    "scrolled": true
   },
   "outputs": [
    {
     "data": {
      "image/png": "[encoded data removed]",
      "text/plain": [
       "<Figure size 640x480 with 1 Axes>"
      ]
     },
     "metadata": {},
     "output_type": "display_data"
    }
   ],
   "source": [
    "# get the count of values in each category and order in descending value\n",
    "count = df.groupby('Country').size()\n",
    "count = count.sort_values(ascending=False)\n",
    "keys = count.index\n",
    "\n",
    "# plot the bar chart\n",
    "plt.bar(keys, count)\n",
    "plt.xticks(keys, rotation='vertical', size=8)\n",
    "plt.ylabel('Number of Kickstarter Projects')\n",
    "plt.xlabel('Country')\n",
    "plt.title('Number of Kickstarter Projects By Country')\n",
    "plt.show()"
   ]
  },
  {
   "cell_type": "code",
   "execution_count": 105,
   "id": "efe423c5",
   "metadata": {},
   "outputs": [
    {
     "name": "stdout",
     "output_type": "stream",
     "text": [
      "State           Canceled    Failed      Live  Successful  Suspended\n",
      "Country                                                            \n",
      "United States   0.096730  0.519650  0.005946    0.373521   0.004152\n",
      "United Kingdom  0.111698  0.516349  0.008286    0.358380   0.005286\n",
      "Hong Kong       0.140777  0.422330  0.056634    0.349515   0.030744\n",
      "Denmark         0.141060  0.508535  0.014376    0.323450   0.012579\n",
      "Singapore       0.120721  0.497297  0.050450    0.320721   0.010811\n",
      "New Zealand     0.104354  0.570836  0.007602    0.309606   0.007602\n",
      "France          0.120109  0.548486  0.017693    0.308949   0.004764\n",
      "Luxembourg      0.064516  0.612903  0.016129    0.306452   0.000000\n",
      "Sweden          0.118953  0.569152  0.011383    0.289698   0.010814\n",
      "Canada          0.144890  0.558146  0.008946    0.280157   0.007861\n",
      "Australia       0.135859  0.587575  0.008930    0.256410   0.011226\n",
      "Ireland         0.135635  0.586930  0.013564    0.255240   0.008631\n",
      "Belgium         0.119935  0.601297  0.019449    0.246353   0.012966\n",
      "Switzerland     0.110526  0.611842  0.018421    0.246053   0.013158\n",
      "Norway          0.158192  0.593220  0.011299    0.228814   0.008475\n",
      "Mexico          0.126142  0.579338  0.061073    0.226027   0.007420\n",
      "Germany         0.148885  0.599137  0.017981    0.224646   0.009350\n",
      "Spain           0.145431  0.606766  0.022847    0.216169   0.008787\n",
      "Netherlands     0.138075  0.625523  0.012204    0.215132   0.009066\n",
      "Austria         0.152429  0.633166  0.025126    0.179229   0.010050\n",
      "Japan           0.200000  0.400000  0.225000    0.175000   0.000000\n",
      "Italy           0.141070  0.670605  0.026407    0.152536   0.009382\n"
     ]
    }
   ],
   "source": [
    "# create the cross tabulation with row-wise normalization\n",
    "ct = pd.crosstab(df['Country'], df['State'], normalize='index')\n",
    "\n",
    "# format the values as percentages with two decimal places\n",
    "ct_sorted = ct.sort_values(by='Successful', ascending=False)\n",
    "\n",
    "# display the formatted cross tabulation\n",
    "print(ct_sorted)"
   ]
  },
  {
   "cell_type": "markdown",
   "id": "e874871e",
   "metadata": {},
   "source": [
    "# What Percentage of Projects Reached Their Goal? "
   ]
  },
  {
   "cell_type": "code",
   "execution_count": 53,
   "id": "cea6dec2",
   "metadata": {},
   "outputs": [
    {
     "name": "stdout",
     "output_type": "stream",
     "text": [
      "        State   Count  Percentage\n",
      "0      Failed  197611   52.716932\n",
      "1  Successful  133851   35.707597\n",
      "2    Canceled   38751   10.337652\n",
      "3        Live    2798    0.746426\n",
      "4   Suspended    1842    0.491393\n"
     ]
    }
   ],
   "source": [
    "count=df['State'].value_counts()\n",
    "\n",
    "# calculate the percentage of each category\n",
    "percent = count / len(df) * 100\n",
    "\n",
    "# create a new dataframe with the category, count, and percentage\n",
    "state_df = pd.DataFrame({'State': count.index, 'Count': count.values, 'Percentage': percent.values})\n",
    "\n",
    "# print the new dataframe\n",
    "print(state_df)"
   ]
  },
  {
   "cell_type": "code",
   "execution_count": 66,
   "id": "9176ceb7",
   "metadata": {},
   "outputs": [
    {
     "data": {
      "image/png": "[encoded data removed]",
      "text/plain": [
       "<Figure size 640x480 with 1 Axes>"
      ]
     },
     "metadata": {},
     "output_type": "display_data"
    }
   ],
   "source": [
    "# create a pie chart of state percentages\n",
    "wedges, labels, pct_texts = plt.pie(state_df['Percentage'], autopct='%1.0f%%', startangle=90,\n",
    "                                    wedgeprops={'linewidth': 1.0, 'edgecolor': 'white'})\n",
    "\n",
    "# create a legend for the pie chart\n",
    "plt.legend(wedges, state_df['State'], title='State', loc='center right', bbox_to_anchor=(1.5, 0.5))\n",
    "\n",
    "# set the title of the pie chart\n",
    "plt.title('Kickstarter Campaign Success Breakdown by Percentage')\n",
    "\n",
    "# display the chart\n",
    "plt.show()"
   ]
  },
  {
   "cell_type": "markdown",
   "id": "e9128896",
   "metadata": {},
   "source": [
    "# CrossTab of Campaign State By Campaign Length"
   ]
  },
  {
   "cell_type": "code",
   "execution_count": 67,
   "id": "34484a09",
   "metadata": {},
   "outputs": [
    {
     "name": "stdout",
     "output_type": "stream",
     "text": [
      "State                Canceled  Failed  Live  Successful  Suspended\n",
      "Campaign Length Cat                                               \n",
      "30 Days or Less         23802  130157  1326       92834       1157\n",
      "31 to 60 Days           14385   64903  1472       39432        677\n",
      "61 to 91 Days             564    2551     0        1585          8\n"
     ]
    }
   ],
   "source": [
    "# create the cross tabulation\n",
    "ct = pd.crosstab(df['Campaign Length Cat'], df['State'])\n",
    "\n",
    "# display the cross tabulation\n",
    "print(ct)"
   ]
  },
  {
   "cell_type": "code",
   "execution_count": 68,
   "id": "04f5d6d6",
   "metadata": {},
   "outputs": [
    {
     "name": "stdout",
     "output_type": "stream",
     "text": [
      "State                Canceled    Failed      Live  Successful  Suspended\n",
      "Campaign Length Cat                                                     \n",
      "30 Days or Less      0.095485  0.522140  0.005319    0.372415   0.004641\n",
      "31 to 60 Days        0.119013  0.536970  0.012178    0.326237   0.005601\n",
      "61 to 91 Days        0.119796  0.541844  0.000000    0.336661   0.001699\n"
     ]
    }
   ],
   "source": [
    "# create the cross tabulation with row-wise normalization\n",
    "ct_normalized = pd.crosstab(df['Campaign Length Cat'], df['State'], normalize='index')\n",
    "\n",
    "# display the cross tabulation\n",
    "print(ct_normalized)"
   ]
  },
  {
   "cell_type": "markdown",
   "id": "48f3ad33",
   "metadata": {},
   "source": [
    "# Which Categories Are Most Successful and Which Are Least Successful?"
   ]
  },
  {
   "cell_type": "code",
   "execution_count": 72,
   "id": "f55bb62b",
   "metadata": {},
   "outputs": [
    {
     "name": "stdout",
     "output_type": "stream",
     "text": [
      "State         Canceled    Failed      Live  Successful  Suspended\n",
      "Category                                                         \n",
      "Dance         0.043271  0.327847  0.004778    0.620653   0.003451\n",
      "Theater       0.055632  0.339841  0.003758    0.598845   0.001925\n",
      "Comics        0.077826  0.373047  0.007025    0.539976   0.002126\n",
      "Music         0.066607  0.438046  0.005673    0.486685   0.002988\n",
      "Art           0.078896  0.501936  0.006891    0.408866   0.003410\n",
      "Film & Video  0.091588  0.524628  0.005296    0.376623   0.001866\n",
      "Games         0.175983  0.454280  0.008148    0.355373   0.006217\n",
      "Design        0.138068  0.492732  0.010145    0.350873   0.008182\n",
      "Publishing    0.091447  0.586952  0.007593    0.312357   0.001651\n",
      "Photography   0.091483  0.592318  0.004454    0.306643   0.005103\n",
      "Food          0.089800  0.649173  0.007439    0.247368   0.006220\n",
      "Fashion       0.116167  0.621647  0.010959    0.245178   0.006049\n",
      "Crafts        0.095698  0.647406  0.008628    0.240095   0.008173\n",
      "Journalism    0.110013  0.659655  0.006521    0.212873   0.010938\n",
      "Technology    0.144801  0.633039  0.011578    0.197562   0.013021\n"
     ]
    }
   ],
   "source": [
    "# create the cross tabulation with row-wise normalization\n",
    "ct = pd.crosstab(df['Category'], df['State'], normalize='index')\n",
    "\n",
    "# format the values as percentages with two decimal places\n",
    "ct_sorted = ct.sort_values(by='Successful', ascending=False)\n",
    "\n",
    "# display the formatted cross tabulation\n",
    "print(ct_sorted)"
   ]
  },
  {
   "cell_type": "markdown",
   "id": "231d6120",
   "metadata": {},
   "source": [
    "# Deeper Dive Into The Music Category"
   ]
  },
  {
   "cell_type": "markdown",
   "id": "e9a470e3",
   "metadata": {},
   "source": [
    "# Music Genre Success Rate"
   ]
  },
  {
   "cell_type": "code",
   "execution_count": 129,
   "id": "5e773eb2",
   "metadata": {},
   "outputs": [
    {
     "name": "stdout",
     "output_type": "stream",
     "text": [
      "State             Canceled    Failed      Live  Successful  Suspended\n",
      "Subcategory                                                          \n",
      "Chiptune          0.057143  0.171429  0.000000    0.771429   0.000000\n",
      "Indie Rock        0.054799  0.302457  0.002652    0.639562   0.000530\n",
      "Country & Folk    0.048304  0.314761  0.004269    0.631768   0.000899\n",
      "Classical Music   0.060084  0.303483  0.004210    0.630310   0.001914\n",
      "Jazz              0.045946  0.347568  0.007027    0.596757   0.002703\n",
      "Rock              0.069695  0.406333  0.004587    0.517905   0.001480\n",
      "Music             0.054127  0.460679  0.005997    0.475298   0.003898\n",
      "Pop               0.081493  0.444776  0.005970    0.465970   0.001791\n",
      "Punk              0.135647  0.384858  0.012618    0.460568   0.006309\n",
      "Kids              0.080702  0.463158  0.010526    0.442105   0.003509\n",
      "World Music       0.068030  0.484301  0.006185    0.438630   0.002854\n",
      "Blues             0.115672  0.436567  0.007463    0.436567   0.003731\n",
      "Faith             0.063187  0.504579  0.010073    0.417582   0.004579\n",
      "Metal             0.080893  0.514644  0.008368    0.383543   0.012552\n",
      "Comedy            0.000000  0.526316  0.052632    0.368421   0.052632\n",
      "Electronic Music  0.112903  0.554378  0.006452    0.322581   0.003687\n",
      "Latin             0.094891  0.605839  0.021898    0.277372   0.000000\n",
      "R&B               0.098253  0.652838  0.008734    0.233624   0.006550\n",
      "Hip-Hop           0.100741  0.730504  0.007926    0.153925   0.006904\n"
     ]
    }
   ],
   "source": [
    "# filter the dataframe to only include rows where Category is 'Fashion' or 'Dance'\n",
    "df_cat = df[df['Category'] == 'Music']\n",
    "\n",
    "# create the cross tabulation with row-wise normalization\n",
    "ct_normalized = pd.crosstab(df_cat['Subcategory'], df_cat['State'], normalize='index')\n",
    "\n",
    "ct_sorted = ct_normalized.sort_values(by='Successful', ascending=False)\n",
    "\n",
    "# display the cross tabulation\n",
    "print(ct_sorted)"
   ]
  },
  {
   "cell_type": "code",
   "execution_count": 131,
   "id": "5ecee3d0",
   "metadata": {
    "scrolled": true
   },
   "outputs": [
    {
     "name": "stdout",
     "output_type": "stream",
     "text": [
      "State             Canceled  Failed  Live  Successful  Suspended\n",
      "Subcategory                                                    \n",
      "Music                  722    6145    80        6340         52\n",
      "Indie Rock             310    1711    15        3618          3\n",
      "Rock                   471    2746    31        3500         10\n",
      "Country & Folk         215    1401    19        2812          4\n",
      "Classical Music        157     793    11        1647          5\n",
      "Pop                    273    1490    20        1561          6\n",
      "Jazz                    85     643    13        1104          5\n",
      "World Music            143    1018    13         922          6\n",
      "Electronic Music       245    1203    14         700          8\n",
      "Hip-Hop                394    2857    31         602         27\n",
      "Faith                   69     551    11         456          5\n",
      "Metal                   58     369     6         275          9\n",
      "Punk                    43     122     4         146          2\n",
      "Kids                    23     132     3         126          1\n",
      "Blues                   31     117     2         117          1\n",
      "R&B                     45     299     4         107          3\n",
      "Latin                   13      83     3          38          0\n",
      "Chiptune                 2       6     0          27          0\n",
      "Comedy                   0      10     1           7          1\n"
     ]
    }
   ],
   "source": [
    "# filter the dataframe to only include rows where Category is 'Fashion' or 'Dance'\n",
    "df_cat = df[df['Category'] == 'Music']\n",
    "\n",
    "# create the cross tabulation\n",
    "ct = pd.crosstab(df_cat['Subcategory'], df_cat['State'])\n",
    "\n",
    "ct_sorted = ct.sort_values(by='Successful', ascending=False)\n",
    "\n",
    "# display the cross tabulation\n",
    "print(ct_sorted)"
   ]
  },
  {
   "cell_type": "markdown",
   "id": "39159278",
   "metadata": {},
   "source": [
    "# Music Success Rate By Goal Amount"
   ]
  },
  {
   "cell_type": "code",
   "execution_count": 138,
   "id": "1127082b",
   "metadata": {
    "scrolled": true
   },
   "outputs": [
    {
     "name": "stdout",
     "output_type": "stream",
     "text": [
      "State                   Canceled    Failed      Live  Successful  Suspended\n",
      "Goal Level                                                                 \n",
      "1 - $1,000 or Less      0.064682  0.385519  0.004588    0.538384   0.006826\n",
      "2 - $1,001 to $5,000    0.050503  0.409402  0.005560    0.532604   0.001930\n",
      "3 - $5,001 to $10,000   0.067666  0.438788  0.006871    0.484489   0.002186\n",
      "4 - $10,001 to $25,000  0.088514  0.504418  0.004102    0.401388   0.001578\n",
      "5 - $25,001 or more     0.142313  0.668283  0.009349    0.175208   0.004848\n"
     ]
    }
   ],
   "source": [
    "# filter the dataframe to only include rows where Category is 'Fashion' or 'Dance'\n",
    "df_cat = df[df['Category'] == 'Music']\n",
    "\n",
    "# create the cross tabulation with row-wise normalization\n",
    "ct_normalized = pd.crosstab(df_cat['Goal Level'], df_cat['State'], normalize='index')\n",
    "\n",
    "ct_sorted = ct_normalized.sort_values(by='Successful', ascending=False)\n",
    "\n",
    "# display the cross tabulation\n",
    "print(ct_sorted)"
   ]
  },
  {
   "cell_type": "code",
   "execution_count": 142,
   "id": "9d48b021",
   "metadata": {},
   "outputs": [
    {
     "name": "stdout",
     "output_type": "stream",
     "text": [
      "State                   Canceled  Failed  Live  Successful  Suspended\n",
      "Goal Level                                                           \n",
      "5 - $25,001 or more         2453    8716   152        1914        142\n",
      "2 - $1,001 to $5,000         597    3373    55        1403         80\n",
      "4 - $10,001 to $25,000       912    4427    85        1270         85\n",
      "3 - $5,001 to $10,000        562    3003    67         957         63\n",
      "1 - $1,000 or Less           191    1094    18         889         54\n"
     ]
    }
   ],
   "source": [
    "# filter the dataframe to only include rows where Category is 'Fashion' or 'Dance'\n",
    "df_cat = df[df['Category'] == 'Technology']\n",
    "\n",
    "# create the cross tabulation\n",
    "ct = pd.crosstab(df_cat['Goal Level'], df_cat['State'])\n",
    "\n",
    "ct_sorted = ct.sort_values(by='Successful', ascending=False)\n",
    "\n",
    "# display the cross tabulation\n",
    "print(ct_sorted)"
   ]
  },
  {
   "cell_type": "markdown",
   "id": "bc418bbf",
   "metadata": {},
   "source": [
    "# Music Success Rate By Genre and Campaigns Goals of 25K or Higher"
   ]
  },
  {
   "cell_type": "code",
   "execution_count": 139,
   "id": "e047cff7",
   "metadata": {},
   "outputs": [
    {
     "name": "stdout",
     "output_type": "stream",
     "text": [
      "State             Canceled    Failed      Live  Successful  Suspended\n",
      "Subcategory                                                          \n",
      "Chiptune          0.000000  0.000000  0.000000    1.000000   0.000000\n",
      "Indie Rock        0.106796  0.504854  0.009709    0.378641   0.000000\n",
      "Comedy            0.000000  0.666667  0.000000    0.333333   0.000000\n",
      "Country & Folk    0.089431  0.634146  0.000000    0.276423   0.000000\n",
      "Classical Music   0.153846  0.594406  0.013986    0.237762   0.000000\n",
      "Metal             0.173913  0.565217  0.000000    0.217391   0.043478\n",
      "Rock              0.191667  0.587500  0.004167    0.212500   0.004167\n",
      "Jazz              0.076923  0.703297  0.000000    0.197802   0.021978\n",
      "Music             0.140244  0.649826  0.008711    0.195993   0.005226\n",
      "Faith             0.163934  0.639344  0.016393    0.163934   0.016393\n",
      "Kids              0.076923  0.769231  0.000000    0.153846   0.000000\n",
      "Pop               0.154545  0.677273  0.013636    0.150000   0.004545\n",
      "Blues             0.200000  0.600000  0.050000    0.150000   0.000000\n",
      "Electronic Music  0.192593  0.644444  0.014815    0.140741   0.007407\n",
      "World Music       0.101124  0.775281  0.016854    0.106742   0.000000\n",
      "R&B               0.170213  0.765957  0.021277    0.042553   0.000000\n",
      "Hip-Hop           0.151007  0.815436  0.006711    0.023490   0.003356\n",
      "Latin             0.050000  0.950000  0.000000    0.000000   0.000000\n",
      "Punk              0.142857  0.857143  0.000000    0.000000   0.000000\n"
     ]
    }
   ],
   "source": [
    "# filter the dataframe to only include rows where Category is 'Fashion' or 'Dance' and goal level\n",
    "df_cat = df[(df['Category'] == 'Music') & (df['Goal Level'] == '5 - $25,001 or more')]\n",
    "\n",
    "# create the cross tabulation with row-wise normalization\n",
    "ct_normalized = pd.crosstab(df_cat['Subcategory'], df_cat['State'], normalize='index')\n",
    "\n",
    "ct_sorted = ct_normalized.sort_values(by='Successful', ascending=False)\n",
    "\n",
    "# display the cross tabulation\n",
    "print(ct_sorted)"
   ]
  },
  {
   "cell_type": "code",
   "execution_count": 140,
   "id": "499b3008",
   "metadata": {},
   "outputs": [
    {
     "name": "stdout",
     "output_type": "stream",
     "text": [
      "State             Canceled  Failed  Live  Successful  Suspended\n",
      "Subcategory                                                    \n",
      "Music                  161     746    10         225          6\n",
      "Rock                    46     141     1          51          1\n",
      "Indie Rock              11      52     1          39          0\n",
      "Classical Music         22      85     2          34          0\n",
      "Country & Folk          11      78     0          34          0\n",
      "Pop                     34     149     3          33          1\n",
      "World Music             18     138     3          19          0\n",
      "Electronic Music        26      87     2          19          1\n",
      "Jazz                     7      64     0          18          2\n",
      "Faith                   10      39     1          10          1\n",
      "Hip-Hop                 45     243     2           7          1\n",
      "Metal                    4      13     0           5          1\n",
      "Kids                     2      20     0           4          0\n",
      "Blues                    4      12     1           3          0\n",
      "Chiptune                 0       0     0           2          0\n",
      "R&B                      8      36     1           2          0\n",
      "Comedy                   0       2     0           1          0\n",
      "Latin                    1      19     0           0          0\n",
      "Punk                     1       6     0           0          0\n"
     ]
    }
   ],
   "source": [
    "# filter the dataframe to only include rows where Category is 'Fashion' or 'Dance' and goal level\n",
    "df_cat = df[(df['Category'] == 'Music') & (df['Goal Level'] == '5 - $25,001 or more')]\n",
    "\n",
    "# create the cross tabulation\n",
    "ct = pd.crosstab(df_cat['Subcategory'], df_cat['State'])\n",
    "\n",
    "ct_sorted = ct.sort_values(by='Successful', ascending=False)\n",
    "\n",
    "# display the cross tabulation\n",
    "print(ct_sorted)"
   ]
  },
  {
   "cell_type": "code",
   "execution_count": null,
   "id": "211139fa",
   "metadata": {},
   "outputs": [],
   "source": []
  }
 ],
 "metadata": {
  "kernelspec": {
   "display_name": "Python 3 (ipykernel)",
   "language": "python",
   "name": "python3"
  },
  "language_info": {
   "codemirror_mode": {
    "name": "ipython",
    "version": 3
   },
   "file_extension": ".py",
   "mimetype": "text/x-python",
   "name": "python",
   "nbconvert_exporter": "python",
   "pygments_lexer": "ipython3",
   "version": "3.10.9"
  }
 },
 "nbformat": 4,
 "nbformat_minor": 5
}
